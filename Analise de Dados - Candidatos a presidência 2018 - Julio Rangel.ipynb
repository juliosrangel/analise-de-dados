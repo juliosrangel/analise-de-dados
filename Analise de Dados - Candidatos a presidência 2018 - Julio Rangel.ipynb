{
 "cells": [
  {
   "cell_type": "code",
   "execution_count": 3,
   "metadata": {
    "scrolled": true
   },
   "outputs": [],
   "source": [
    "import pandas as pd\n",
    "low_memory=False\n",
    "import matplotlib.pyplot as plt\n",
    "%matplotlib inline"
   ]
  },
  {
   "cell_type": "code",
   "execution_count": 8,
   "metadata": {},
   "outputs": [],
   "source": [
    "filename = r'C:\\Users\\Julio Rangel\\Documents\\6 sem\\Massanori - BD nao estruturados\\TSE_PRESIDENTE_BR_CANDIDATO_2018.csv'\n",
    "df = pd.read_csv(filename, delimiter=',',\n",
    "                 error_bad_lines=False)"
   ]
  },
  {
   "cell_type": "code",
   "execution_count": 9,
   "metadata": {},
   "outputs": [
    {
     "data": {
      "text/plain": [
       "(15, 12)"
      ]
     },
     "execution_count": 9,
     "metadata": {},
     "output_type": "execute_result"
    }
   ],
   "source": [
    "df.shape"
   ]
  },
  {
   "cell_type": "code",
   "execution_count": 10,
   "metadata": {},
   "outputs": [
    {
     "name": "stdout",
     "output_type": "stream",
     "text": [
      "<class 'pandas.core.frame.DataFrame'>\n",
      "RangeIndex: 15 entries, 0 to 14\n",
      "Data columns (total 12 columns):\n",
      " #   Column              Non-Null Count  Dtype \n",
      "---  ------              --------------  ----- \n",
      " 0   ANO_ELEICAO         15 non-null     int64 \n",
      " 1   DESCRICAO_CARGO     15 non-null     object\n",
      " 2   NOME_CANDIDATO      15 non-null     object\n",
      " 3   NUMERO_CANDIDATO    15 non-null     int64 \n",
      " 4   CPF_CANDIDATO       15 non-null     int64 \n",
      " 5   NUMERO_PARTIDO      15 non-null     int64 \n",
      " 6   SIGLA_PARTIDO       15 non-null     object\n",
      " 7   DATA_NASCIMENTO     15 non-null     object\n",
      " 8   DESCRICAO_SEXO      15 non-null     object\n",
      " 9   DESCRICAO_COR_RACA  15 non-null     object\n",
      " 10  DESC_SIT_TOT_TURNO  15 non-null     object\n",
      " 11  QTDE_VOTOS          15 non-null     int64 \n",
      "dtypes: int64(5), object(7)\n",
      "memory usage: 1.5+ KB\n"
     ]
    }
   ],
   "source": [
    "df.info()"
   ]
  },
  {
   "cell_type": "code",
   "execution_count": 14,
   "metadata": {},
   "outputs": [
    {
     "data": {
      "text/html": [
       "<div>\n",
       "<style scoped>\n",
       "    .dataframe tbody tr th:only-of-type {\n",
       "        vertical-align: middle;\n",
       "    }\n",
       "\n",
       "    .dataframe tbody tr th {\n",
       "        vertical-align: top;\n",
       "    }\n",
       "\n",
       "    .dataframe thead th {\n",
       "        text-align: right;\n",
       "    }\n",
       "</style>\n",
       "<table border=\"1\" class=\"dataframe\">\n",
       "  <thead>\n",
       "    <tr style=\"text-align: right;\">\n",
       "      <th></th>\n",
       "      <th>ANO_ELEICAO</th>\n",
       "      <th>DESCRICAO_CARGO</th>\n",
       "      <th>NOME_CANDIDATO</th>\n",
       "      <th>NUMERO_CANDIDATO</th>\n",
       "      <th>CPF_CANDIDATO</th>\n",
       "      <th>NUMERO_PARTIDO</th>\n",
       "      <th>SIGLA_PARTIDO</th>\n",
       "      <th>DATA_NASCIMENTO</th>\n",
       "      <th>DESCRICAO_SEXO</th>\n",
       "      <th>DESCRICAO_COR_RACA</th>\n",
       "      <th>DESC_SIT_TOT_TURNO</th>\n",
       "      <th>QTDE_VOTOS</th>\n",
       "    </tr>\n",
       "  </thead>\n",
       "  <tbody>\n",
       "    <tr>\n",
       "      <th>3</th>\n",
       "      <td>2018</td>\n",
       "      <td>PRESIDENTE</td>\n",
       "      <td>BENEVENUTO DACIOLO FONSECA DOS SANTOS</td>\n",
       "      <td>51</td>\n",
       "      <td>19686111859</td>\n",
       "      <td>51</td>\n",
       "      <td>PATRI</td>\n",
       "      <td>30/03/1976</td>\n",
       "      <td>MASCULINO</td>\n",
       "      <td>PARDA</td>\n",
       "      <td>NÃO ELEITO</td>\n",
       "      <td>1348322</td>\n",
       "    </tr>\n",
       "    <tr>\n",
       "      <th>6</th>\n",
       "      <td>2018</td>\n",
       "      <td>PRESIDENTE</td>\n",
       "      <td>JOÃO VICENTE FONTELLA GOULART</td>\n",
       "      <td>54</td>\n",
       "      <td>25405233072</td>\n",
       "      <td>54</td>\n",
       "      <td>PPL</td>\n",
       "      <td>22/11/1956</td>\n",
       "      <td>MASCULINO</td>\n",
       "      <td>BRANCA</td>\n",
       "      <td>NÃO ELEITO</td>\n",
       "      <td>30175</td>\n",
       "    </tr>\n",
       "    <tr>\n",
       "      <th>9</th>\n",
       "      <td>2018</td>\n",
       "      <td>PRESIDENTE</td>\n",
       "      <td>JAIR MESSIAS BOLSONARO</td>\n",
       "      <td>17</td>\n",
       "      <td>45317828791</td>\n",
       "      <td>17</td>\n",
       "      <td>PSL</td>\n",
       "      <td>21/03/1955</td>\n",
       "      <td>MASCULINO</td>\n",
       "      <td>BRANCA</td>\n",
       "      <td>ELEITO</td>\n",
       "      <td>57797477</td>\n",
       "    </tr>\n",
       "    <tr>\n",
       "      <th>0</th>\n",
       "      <td>2018</td>\n",
       "      <td>PRESIDENTE</td>\n",
       "      <td>JOSE MARIA EYMAEL</td>\n",
       "      <td>27</td>\n",
       "      <td>1061712834</td>\n",
       "      <td>27</td>\n",
       "      <td>DC</td>\n",
       "      <td>02/11/1939</td>\n",
       "      <td>MASCULINO</td>\n",
       "      <td>BRANCA</td>\n",
       "      <td>NÃO ELEITO</td>\n",
       "      <td>41709</td>\n",
       "    </tr>\n",
       "    <tr>\n",
       "      <th>10</th>\n",
       "      <td>2018</td>\n",
       "      <td>PRESIDENTE</td>\n",
       "      <td>GUILHERME CASTRO BOULOS</td>\n",
       "      <td>50</td>\n",
       "      <td>22732996807</td>\n",
       "      <td>50</td>\n",
       "      <td>PSOL</td>\n",
       "      <td>19/06/1982</td>\n",
       "      <td>MASCULINO</td>\n",
       "      <td>BRANCA</td>\n",
       "      <td>NÃO ELEITO</td>\n",
       "      <td>617119</td>\n",
       "    </tr>\n",
       "    <tr>\n",
       "      <th>8</th>\n",
       "      <td>2018</td>\n",
       "      <td>PRESIDENTE</td>\n",
       "      <td>JAIR MESSIAS BOLSONARO</td>\n",
       "      <td>17</td>\n",
       "      <td>45317828791</td>\n",
       "      <td>17</td>\n",
       "      <td>PSL</td>\n",
       "      <td>21/03/1955</td>\n",
       "      <td>MASCULINO</td>\n",
       "      <td>BRANCA</td>\n",
       "      <td>2º TURNO</td>\n",
       "      <td>49276702</td>\n",
       "    </tr>\n",
       "    <tr>\n",
       "      <th>13</th>\n",
       "      <td>2018</td>\n",
       "      <td>PRESIDENTE</td>\n",
       "      <td>FERNANDO HADDAD</td>\n",
       "      <td>13</td>\n",
       "      <td>5233117886</td>\n",
       "      <td>13</td>\n",
       "      <td>PT</td>\n",
       "      <td>25/01/1963</td>\n",
       "      <td>MASCULINO</td>\n",
       "      <td>BRANCA</td>\n",
       "      <td>NÃO ELEITO</td>\n",
       "      <td>47040775</td>\n",
       "    </tr>\n",
       "    <tr>\n",
       "      <th>1</th>\n",
       "      <td>2018</td>\n",
       "      <td>PRESIDENTE</td>\n",
       "      <td>HENRIQUE DE CAMPOS MEIRELLES</td>\n",
       "      <td>15</td>\n",
       "      <td>27474283891</td>\n",
       "      <td>15</td>\n",
       "      <td>MDB</td>\n",
       "      <td>31/08/1945</td>\n",
       "      <td>MASCULINO</td>\n",
       "      <td>BRANCA</td>\n",
       "      <td>NÃO ELEITO</td>\n",
       "      <td>1288945</td>\n",
       "    </tr>\n",
       "    <tr>\n",
       "      <th>5</th>\n",
       "      <td>2018</td>\n",
       "      <td>PRESIDENTE</td>\n",
       "      <td>ALVARO FERNANDES DIAS</td>\n",
       "      <td>19</td>\n",
       "      <td>274003953</td>\n",
       "      <td>19</td>\n",
       "      <td>PODE</td>\n",
       "      <td>07/12/1944</td>\n",
       "      <td>MASCULINO</td>\n",
       "      <td>BRANCA</td>\n",
       "      <td>NÃO ELEITO</td>\n",
       "      <td>859596</td>\n",
       "    </tr>\n",
       "    <tr>\n",
       "      <th>14</th>\n",
       "      <td>2018</td>\n",
       "      <td>PRESIDENTE</td>\n",
       "      <td>MARIA OSMARINA MARINA DA SILVA VAZ DE LIMA</td>\n",
       "      <td>18</td>\n",
       "      <td>11980761272</td>\n",
       "      <td>18</td>\n",
       "      <td>REDE</td>\n",
       "      <td>08/02/1958</td>\n",
       "      <td>FEMININO</td>\n",
       "      <td>PRETA</td>\n",
       "      <td>NÃO ELEITO</td>\n",
       "      <td>1069570</td>\n",
       "    </tr>\n",
       "    <tr>\n",
       "      <th>12</th>\n",
       "      <td>2018</td>\n",
       "      <td>PRESIDENTE</td>\n",
       "      <td>FERNANDO HADDAD</td>\n",
       "      <td>13</td>\n",
       "      <td>5233117886</td>\n",
       "      <td>13</td>\n",
       "      <td>PT</td>\n",
       "      <td>25/01/1963</td>\n",
       "      <td>MASCULINO</td>\n",
       "      <td>BRANCA</td>\n",
       "      <td>2º TURNO</td>\n",
       "      <td>31341996</td>\n",
       "    </tr>\n",
       "    <tr>\n",
       "      <th>4</th>\n",
       "      <td>2018</td>\n",
       "      <td>PRESIDENTE</td>\n",
       "      <td>CIRO FERREIRA GOMES</td>\n",
       "      <td>12</td>\n",
       "      <td>12005509353</td>\n",
       "      <td>12</td>\n",
       "      <td>PDT</td>\n",
       "      <td>06/11/1957</td>\n",
       "      <td>MASCULINO</td>\n",
       "      <td>BRANCA</td>\n",
       "      <td>NÃO ELEITO</td>\n",
       "      <td>13344289</td>\n",
       "    </tr>\n",
       "    <tr>\n",
       "      <th>7</th>\n",
       "      <td>2018</td>\n",
       "      <td>PRESIDENTE</td>\n",
       "      <td>GERALDO JOSÉ RODRIGUES ALCKMIN FILHO</td>\n",
       "      <td>45</td>\n",
       "      <td>54914906872</td>\n",
       "      <td>45</td>\n",
       "      <td>PSDB</td>\n",
       "      <td>07/11/1952</td>\n",
       "      <td>MASCULINO</td>\n",
       "      <td>BRANCA</td>\n",
       "      <td>NÃO ELEITO</td>\n",
       "      <td>5096330</td>\n",
       "    </tr>\n",
       "    <tr>\n",
       "      <th>11</th>\n",
       "      <td>2018</td>\n",
       "      <td>PRESIDENTE</td>\n",
       "      <td>VERA LUCIA PEREIRA DA SILVA SALGADO</td>\n",
       "      <td>16</td>\n",
       "      <td>33619352534</td>\n",
       "      <td>16</td>\n",
       "      <td>PSTU</td>\n",
       "      <td>12/09/1967</td>\n",
       "      <td>FEMININO</td>\n",
       "      <td>PRETA</td>\n",
       "      <td>NÃO ELEITO</td>\n",
       "      <td>55762</td>\n",
       "    </tr>\n",
       "    <tr>\n",
       "      <th>2</th>\n",
       "      <td>2018</td>\n",
       "      <td>PRESIDENTE</td>\n",
       "      <td>JOÃO DIONISIO FILGUEIRA BARRETO AMOEDO</td>\n",
       "      <td>30</td>\n",
       "      <td>70619247720</td>\n",
       "      <td>30</td>\n",
       "      <td>NOVO</td>\n",
       "      <td>22/10/1962</td>\n",
       "      <td>MASCULINO</td>\n",
       "      <td>BRANCA</td>\n",
       "      <td>NÃO ELEITO</td>\n",
       "      <td>2679712</td>\n",
       "    </tr>\n",
       "  </tbody>\n",
       "</table>\n",
       "</div>"
      ],
      "text/plain": [
       "    ANO_ELEICAO DESCRICAO_CARGO                              NOME_CANDIDATO  \\\n",
       "3          2018      PRESIDENTE       BENEVENUTO DACIOLO FONSECA DOS SANTOS   \n",
       "6          2018      PRESIDENTE               JOÃO VICENTE FONTELLA GOULART   \n",
       "9          2018      PRESIDENTE                      JAIR MESSIAS BOLSONARO   \n",
       "0          2018      PRESIDENTE                           JOSE MARIA EYMAEL   \n",
       "10         2018      PRESIDENTE                     GUILHERME CASTRO BOULOS   \n",
       "8          2018      PRESIDENTE                      JAIR MESSIAS BOLSONARO   \n",
       "13         2018      PRESIDENTE                             FERNANDO HADDAD   \n",
       "1          2018      PRESIDENTE                HENRIQUE DE CAMPOS MEIRELLES   \n",
       "5          2018      PRESIDENTE                       ALVARO FERNANDES DIAS   \n",
       "14         2018      PRESIDENTE  MARIA OSMARINA MARINA DA SILVA VAZ DE LIMA   \n",
       "12         2018      PRESIDENTE                             FERNANDO HADDAD   \n",
       "4          2018      PRESIDENTE                         CIRO FERREIRA GOMES   \n",
       "7          2018      PRESIDENTE        GERALDO JOSÉ RODRIGUES ALCKMIN FILHO   \n",
       "11         2018      PRESIDENTE         VERA LUCIA PEREIRA DA SILVA SALGADO   \n",
       "2          2018      PRESIDENTE      JOÃO DIONISIO FILGUEIRA BARRETO AMOEDO   \n",
       "\n",
       "    NUMERO_CANDIDATO  CPF_CANDIDATO  NUMERO_PARTIDO SIGLA_PARTIDO  \\\n",
       "3                 51    19686111859              51         PATRI   \n",
       "6                 54    25405233072              54           PPL   \n",
       "9                 17    45317828791              17           PSL   \n",
       "0                 27     1061712834              27            DC   \n",
       "10                50    22732996807              50          PSOL   \n",
       "8                 17    45317828791              17           PSL   \n",
       "13                13     5233117886              13            PT   \n",
       "1                 15    27474283891              15           MDB   \n",
       "5                 19      274003953              19          PODE   \n",
       "14                18    11980761272              18          REDE   \n",
       "12                13     5233117886              13            PT   \n",
       "4                 12    12005509353              12           PDT   \n",
       "7                 45    54914906872              45          PSDB   \n",
       "11                16    33619352534              16          PSTU   \n",
       "2                 30    70619247720              30          NOVO   \n",
       "\n",
       "   DATA_NASCIMENTO DESCRICAO_SEXO DESCRICAO_COR_RACA DESC_SIT_TOT_TURNO  \\\n",
       "3       30/03/1976      MASCULINO              PARDA         NÃO ELEITO   \n",
       "6       22/11/1956      MASCULINO             BRANCA         NÃO ELEITO   \n",
       "9       21/03/1955      MASCULINO             BRANCA             ELEITO   \n",
       "0       02/11/1939      MASCULINO             BRANCA         NÃO ELEITO   \n",
       "10      19/06/1982      MASCULINO             BRANCA         NÃO ELEITO   \n",
       "8       21/03/1955      MASCULINO             BRANCA           2º TURNO   \n",
       "13      25/01/1963      MASCULINO             BRANCA         NÃO ELEITO   \n",
       "1       31/08/1945      MASCULINO             BRANCA         NÃO ELEITO   \n",
       "5       07/12/1944      MASCULINO             BRANCA         NÃO ELEITO   \n",
       "14      08/02/1958       FEMININO              PRETA         NÃO ELEITO   \n",
       "12      25/01/1963      MASCULINO             BRANCA           2º TURNO   \n",
       "4       06/11/1957      MASCULINO             BRANCA         NÃO ELEITO   \n",
       "7       07/11/1952      MASCULINO             BRANCA         NÃO ELEITO   \n",
       "11      12/09/1967       FEMININO              PRETA         NÃO ELEITO   \n",
       "2       22/10/1962      MASCULINO             BRANCA         NÃO ELEITO   \n",
       "\n",
       "    QTDE_VOTOS  \n",
       "3      1348322  \n",
       "6        30175  \n",
       "9     57797477  \n",
       "0        41709  \n",
       "10      617119  \n",
       "8     49276702  \n",
       "13    47040775  \n",
       "1      1288945  \n",
       "5       859596  \n",
       "14     1069570  \n",
       "12    31341996  \n",
       "4     13344289  \n",
       "7      5096330  \n",
       "11       55762  \n",
       "2      2679712  "
      ]
     },
     "execution_count": 14,
     "metadata": {},
     "output_type": "execute_result"
    }
   ],
   "source": [
    "df.sample(15)"
   ]
  },
  {
   "cell_type": "code",
   "execution_count": 15,
   "metadata": {},
   "outputs": [
    {
     "name": "stdout",
     "output_type": "stream",
     "text": [
      "<class 'pandas.core.frame.DataFrame'>\n",
      "RangeIndex: 15 entries, 0 to 14\n",
      "Data columns (total 12 columns):\n",
      " #   Column              Non-Null Count  Dtype \n",
      "---  ------              --------------  ----- \n",
      " 0   ANO_ELEICAO         15 non-null     int64 \n",
      " 1   DESCRICAO_CARGO     15 non-null     object\n",
      " 2   NOME_CANDIDATO      15 non-null     object\n",
      " 3   NUMERO_CANDIDATO    15 non-null     int64 \n",
      " 4   CPF_CANDIDATO       15 non-null     int64 \n",
      " 5   NUMERO_PARTIDO      15 non-null     int64 \n",
      " 6   SIGLA_PARTIDO       15 non-null     object\n",
      " 7   DATA_NASCIMENTO     15 non-null     object\n",
      " 8   DESCRICAO_SEXO      15 non-null     object\n",
      " 9   DESCRICAO_COR_RACA  15 non-null     object\n",
      " 10  DESC_SIT_TOT_TURNO  15 non-null     object\n",
      " 11  QTDE_VOTOS          15 non-null     int64 \n",
      "dtypes: int64(5), object(7)\n",
      "memory usage: 1.5+ KB\n"
     ]
    }
   ],
   "source": [
    "df.info()"
   ]
  },
  {
   "cell_type": "code",
   "execution_count": 45,
   "metadata": {},
   "outputs": [
    {
     "data": {
      "text/plain": [
       "<AxesSubplot:title={'center':'DESCRIÇAO POR SEXO'}, ylabel='DESCRICAO_SEXO'>"
      ]
     },
     "execution_count": 45,
     "metadata": {},
     "output_type": "execute_result"
    },
    {
     "data": {
      "image/png": "[encoded data removed]",
      "text/plain": [
       "<Figure size 432x288 with 1 Axes>"
      ]
     },
     "metadata": {
      "needs_background": "light"
     },
     "output_type": "display_data"
    }
   ],
   "source": [
    "df.groupby('DESCRICAO_SEXO').size().sort_values().plot(kind='barh', title = \"DESCRIÇAO POR SEXO\")\n"
   ]
  },
  {
   "cell_type": "code",
   "execution_count": 46,
   "metadata": {},
   "outputs": [
    {
     "data": {
      "text/plain": [
       "<AxesSubplot:title={'center':'DESTRUBUIÇAO POR RACA'}, ylabel='DESCRICAO_COR_RACA'>"
      ]
     },
     "execution_count": 46,
     "metadata": {},
     "output_type": "execute_result"
    },
    {
     "data": {
      "image/png": "[encoded data removed]",
      "text/plain": [
       "<Figure size 720x720 with 1 Axes>"
      ]
     },
     "metadata": {
      "needs_background": "light"
     },
     "output_type": "display_data"
    }
   ],
   "source": [
    "df.groupby('DESCRICAO_COR_RACA').size().sort_values().tail(10).plot(kind='barh', figsize=(10,10), title = \"DESTRUBUIÇAO POR RACA\" )\n"
   ]
  },
  {
   "cell_type": "code",
   "execution_count": 44,
   "metadata": {},
   "outputs": [
    {
     "data": {
      "text/plain": [
       "<AxesSubplot:title={'center':'DATA DE NASCIMENTO DOS CANDIDATOS, EM DESTAQUE OS CANDIDATOS QUE FORAM AO SEGUNDO TURNO'}, ylabel='DATA_NASCIMENTO'>"
      ]
     },
     "execution_count": 44,
     "metadata": {},
     "output_type": "execute_result"
    },
    {
     "data": {
      "image/png": "[encoded data removed]",
      "text/plain": [
       "<Figure size 720x720 with 1 Axes>"
      ]
     },
     "metadata": {
      "needs_background": "light"
     },
     "output_type": "display_data"
    }
   ],
   "source": [
    "df.groupby('DATA_NASCIMENTO').size().sort_values().tail(10).plot(kind='barh', figsize=(10,10), title=\"DATA DE NASCIMENTO DOS CANDIDATOS, EM DESTAQUE OS CANDIDATOS QUE FORAM AO SEGUNDO TURNO\")\n"
   ]
  },
  {
   "cell_type": "code",
   "execution_count": 34,
   "metadata": {
    "scrolled": true
   },
   "outputs": [
    {
     "data": {
      "text/plain": [
       "SIGLA_PARTIDO\n",
       "DC       02/11/1939\n",
       "MDB      31/08/1945\n",
       "NOVO     22/10/1962\n",
       "PATRI    30/03/1976\n",
       "PDT      06/11/1957\n",
       "PODE     07/12/1944\n",
       "PPL      22/11/1956\n",
       "PSDB     07/11/1952\n",
       "PSL      21/03/1955\n",
       "PSOL     19/06/1982\n",
       "PSTU     12/09/1967\n",
       "PT       25/01/1963\n",
       "REDE     08/02/1958\n",
       "Name: DATA_NASCIMENTO, dtype: object"
      ]
     },
     "execution_count": 34,
     "metadata": {},
     "output_type": "execute_result"
    }
   ],
   "source": [
    "df.groupby('SIGLA_PARTIDO')['DATA_NASCIMENTO'].max()\n"
   ]
  },
  {
   "cell_type": "code",
   "execution_count": 43,
   "metadata": {},
   "outputs": [
    {
     "data": {
      "text/plain": [
       "<AxesSubplot:title={'center':'Quantidade de candidatos no partido (PARTIDOS REPETIDOS SE REFEREM AO SEGUNDO TURNO)'}, xlabel='SIGLA_PARTIDO'>"
      ]
     },
     "execution_count": 43,
     "metadata": {},
     "output_type": "execute_result"
    },
    {
     "data": {
      "image/png": "[encoded data removed]",
      "text/plain": [
       "<Figure size 432x288 with 1 Axes>"
      ]
     },
     "metadata": {
      "needs_background": "light"
     },
     "output_type": "display_data"
    }
   ],
   "source": [
    "df.query('DESCRICAO_CARGO  == \"PRESIDENTE\"').plot(x='SIGLA_PARTIDO', y=\"QTDE_VOTOS\", kind=\"bar\", title=\"Quantidade de candidatos no partido (PARTIDOS REPETIDOS SE REFEREM AO SEGUNDO TURNO)\")"
   ]
  },
  {
   "cell_type": "code",
   "execution_count": null,
   "metadata": {},
   "outputs": [],
   "source": []
  }
 ],
 "metadata": {
  "kernelspec": {
   "display_name": "Python 3",
   "language": "python",
   "name": "python3"
  },
  "language_info": {
   "codemirror_mode": {
    "name": "ipython",
    "version": 3
   },
   "file_extension": ".py",
   "mimetype": "text/x-python",
   "name": "python",
   "nbconvert_exporter": "python",
   "pygments_lexer": "ipython3",
   "version": "3.8.3"
  }
 },
 "nbformat": 4,
 "nbformat_minor": 4
}
